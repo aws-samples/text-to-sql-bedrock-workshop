{
 "cells": [
  {
   "attachments": {},
   "cell_type": "markdown",
   "metadata": {},
   "source": [
    "### Ask a Question"
   ]
  },
  {
   "cell_type": "markdown",
   "metadata": {},
   "source": [
    "**Suggested SageMaker JupterLab Notebook Environment set up is as follows:**\n",
    "\n",
    "Sagemaker Image: sagemaker-distribution-cpu\n",
    "\n",
    "Kernel: Python 3\n",
    "\n",
    "Instance Type: ml.m5.large"
   ]
  },
  {
   "attachments": {},
   "cell_type": "markdown",
   "metadata": {},
   "source": [
    "![Alt text](content/rag.png)"
   ]
  },
  {
   "cell_type": "markdown",
   "metadata": {},
   "source": [
    "# Dependencies installations\n",
    "\n",
    "Here we will install all the required dependencies to run this notebook. "
   ]
  },
  {
   "cell_type": "code",
   "execution_count": null,
   "metadata": {},
   "outputs": [],
   "source": [
    "!python -m ensurepip --upgrade\n",
    "!pip install langchain --quiet\n",
    "!pip install jq --quiet\n",
    "!pip install faiss-cpu --quiet"
   ]
  },
  {
   "cell_type": "markdown",
   "metadata": {},
   "source": [
    "**Restart your Kernel before proceeding**"
   ]
  },
  {
   "cell_type": "code",
   "execution_count": null,
   "metadata": {},
   "outputs": [],
   "source": [
    "import json\n",
    "import boto3\n",
    "from botocore.config import Config\n",
    "import sys\n",
    "\n",
    "\n",
    "sys.path.append('../')\n",
    "from libs.din_sql import din_sql_lib as dsl"
   ]
  },
  {
   "attachments": {},
   "cell_type": "markdown",
   "metadata": {},
   "source": [
    "### Replace those variables with your set up ."
   ]
  },
  {
   "cell_type": "code",
   "execution_count": null,
   "metadata": {},
   "outputs": [],
   "source": [
    "\n",
    "ATHENA_RESULTS_S3_LOCATION = \"<workshop bucket name>\" # available in cloudformation outputs\n",
    "ATHENA_CATALOG_NAME = \"<athena catalog name>\" # available in cloudformation outputs\n",
    "DB_NAME = \"tpcds1\"\n",
    "DB_FAISS_PATH = '../vectorstore/db_faiss'\n",
    "retry_config = Config(retries = {'max_attempts': 100})\n",
    "bedrock_region = boto3.session.Session().region_name"
   ]
  },
  {
   "cell_type": "code",
   "execution_count": null,
   "metadata": {},
   "outputs": [],
   "source": [
    "session = boto3.Session(region_name=bedrock_region)\n",
    "bedrock = session.client('bedrock-runtime', region_name=bedrock_region, config=retry_config)"
   ]
  },
  {
   "cell_type": "code",
   "execution_count": null,
   "metadata": {},
   "outputs": [],
   "source": [
    "from langchain.embeddings import BedrockEmbeddings\n",
    "bedrock_embeddings = BedrockEmbeddings(client=bedrock)"
   ]
  },
  {
   "cell_type": "code",
   "execution_count": null,
   "metadata": {},
   "outputs": [],
   "source": [
    "from langchain.vectorstores import FAISS\n",
    "DB_FAISS_PATH = './vectorstore/db_faiss'\n",
    "question_db = FAISS.load_local(DB_FAISS_PATH, bedrock_embeddings)"
   ]
  },
  {
   "cell_type": "code",
   "execution_count": null,
   "metadata": {},
   "outputs": [],
   "source": [
    "query = \"Find the top 10 customer name by total dollars spent\""
   ]
  },
  {
   "attachments": {},
   "cell_type": "markdown",
   "metadata": {},
   "source": [
    "### Get the tables and column information using both similarity and Keyword serach ."
   ]
  },
  {
   "cell_type": "code",
   "execution_count": null,
   "metadata": {},
   "outputs": [],
   "source": [
    "import json\n",
    "schema =  {}\n",
    "\n",
    "results_with_scores = question_db.similarity_search_with_score(query)\n",
    "for doc, score in results_with_scores:\n",
    "    print(doc.metadata['question'])\n",
    "    schema[doc.metadata['tableName']] = doc.metadata['tableSchema']\n",
    "  \n"
   ]
  },
  {
   "cell_type": "code",
   "execution_count": null,
   "metadata": {},
   "outputs": [],
   "source": [
    "from libs.din_sql import din_sql_lib as dsl\n",
    "din_sql = dsl.DIN_SQL(bedrock_model_id='anthropic.claude-v2')"
   ]
  },
  {
   "cell_type": "code",
   "execution_count": null,
   "metadata": {},
   "outputs": [],
   "source": [
    "din_sql.athena_connect(catalog_name=ATHENA_CATALOG_NAME, \n",
    "               db_name=DB_NAME, \n",
    "               s3_prefix=ATHENA_RESULTS_S3_LOCATION)"
   ]
  },
  {
   "cell_type": "code",
   "execution_count": null,
   "metadata": {},
   "outputs": [],
   "source": [
    "from functools import reduce\n",
    "\n",
    "list_tables = din_sql.find_tables(DB_NAME)\n",
    "list_words = query.split(\" \")\n",
    "\n",
    "intersection = reduce(lambda acc, x: acc + [x] if x in list_words and x not in acc else acc, list_tables, [])\n",
    "for table in  intersection :\n",
    "   if table in schema:\n",
    "      print(\"exists\")\n",
    "   else:\n",
    "      schema_name = din_sql.get_schema(DB_NAME,table)\n",
    "      schema[table] = schema_name\n"
   ]
  },
  {
   "cell_type": "code",
   "execution_count": null,
   "metadata": {},
   "outputs": [],
   "source": [
    "schema"
   ]
  },
  {
   "cell_type": "code",
   "execution_count": null,
   "metadata": {},
   "outputs": [],
   "source": [
    "from langchain.prompts import PromptTemplate\n",
    "\n",
    "prompt_template = PromptTemplate.from_template(\n",
    "    \"\"\"\\n\\nHuman:\n",
    "        Read database schema {schema} which contains a json list of table names and their pipe-delimited schemas.\n",
    "        Use the schema, first create a syntactically correct awsathena query to answer the question {input_question}\n",
    "        Instructions:\n",
    "           Never query for all the columns from a specific table, only ask for a few relevant columns given the question.\n",
    "           Pay attention to use only the column names that you can see in the schema description. \n",
    "           Be careful to not query for columns that do not exist. \n",
    "           Pay attention to which column is in which table. \n",
    "           Also, qualify column names with the table name when needed. You are required to use the following format, each taking one line:\n",
    "           Return the sql query inside the <SQL></SQL> tab.\n",
    "          \n",
    "        <Question>\"How many users do we have?\"</Question>\n",
    "        <SQL>SELECT SUM(users) FROM customers</SQL>\n",
    "\n",
    "        <Question>\"How many users do we have for Mobile?\"</Question>\n",
    "        <SQL>SELECT SUM(users) FROM customer WHERE source_medium='Mobile'</SQL>\n",
    "          \n",
    "        <Question>{input_question}</Question>\n",
    "        \\n\\n Assistant: \"\"\"\n",
    ")\n",
    "prompt_data= prompt_template.format(schema=schema,input_question = query)\n",
    "print(prompt_data)"
   ]
  },
  {
   "cell_type": "code",
   "execution_count": null,
   "metadata": {},
   "outputs": [],
   "source": [
    "body = json.dumps({\"prompt\": prompt_data, \"max_tokens_to_sample\": 1500,\"temperature\":0.0})\n",
    "model_id = 'anthropic.claude-v2' # change this to use a different version from the model provider\n",
    "accept = 'application/json'\n",
    "content_type = 'application/json'\n",
    "\n",
    "response = bedrock.invoke_model(body=body, modelId=model_id, accept=accept, contentType=content_type)\n",
    "response_body = json.loads(response.get('body').read())\n",
    "\n",
    "sql = response_body['completion']\n"
   ]
  },
  {
   "cell_type": "code",
   "execution_count": null,
   "metadata": {},
   "outputs": [],
   "source": [
    "print(sql)"
   ]
  }
 ],
 "metadata": {
  "kernelspec": {
   "display_name": ".venv",
   "language": "python",
   "name": "python3"
  },
  "language_info": {
   "codemirror_mode": {
    "name": "ipython",
    "version": 3
   },
   "file_extension": ".py",
   "mimetype": "text/x-python",
   "name": "python",
   "nbconvert_exporter": "python",
   "pygments_lexer": "ipython3",
   "version": "3.10.13"
  },
  "orig_nbformat": 4
 },
 "nbformat": 4,
 "nbformat_minor": 2
}
